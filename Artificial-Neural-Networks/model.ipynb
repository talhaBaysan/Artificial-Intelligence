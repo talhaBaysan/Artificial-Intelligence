{
  "nbformat": 4,
  "nbformat_minor": 0,
  "metadata": {
    "colab": {
      "provenance": []
    },
    "kernelspec": {
      "name": "python3",
      "display_name": "Python 3"
    },
    "language_info": {
      "name": "python"
    }
  },
  "cells": [
    {
      "cell_type": "code",
      "execution_count": 1,
      "metadata": {
        "colab": {
          "base_uri": "https://localhost:8080/"
        },
        "id": "Xr-My_sjQaOm",
        "outputId": "3910d866-9883-4144-ca6f-d7ff5a4477c2"
      },
      "outputs": [
        {
          "output_type": "stream",
          "name": "stdout",
          "text": [
            "Mounted at /content/drive/\n"
          ]
        }
      ],
      "source": [
        "from google.colab import drive\n",
        "drive.mount('/content/drive/')"
      ]
    },
    {
      "cell_type": "code",
      "source": [
        "import numpy as np\n",
        "import pandas as pd\n",
        "import tensorflow as tf"
      ],
      "metadata": {
        "id": "YBxohqlFQgPh"
      },
      "execution_count": 2,
      "outputs": []
    },
    {
      "cell_type": "code",
      "source": [
        "df = pd.read_csv('/content/drive/MyDrive/laptop_veriler.csv', encoding='cp1254',sep=\";\")\n",
        "df"
      ],
      "metadata": {
        "colab": {
          "base_uri": "https://localhost:8080/",
          "height": 658
        },
        "id": "4Nv2QK4qQhlr",
        "outputId": "c7cce6f0-1fb1-4747-e286-f128ec3ba259"
      },
      "execution_count": 3,
      "outputs": [
        {
          "output_type": "execute_result",
          "data": {
            "text/plain": [
              "                                               İsim   Marka  \\\n",
              "0      Lenovo ThinkPad P15 G2 20YQS2T902A9 Notebook  Lenovo   \n",
              "1     Asus ROG Zephyrus G14 GA402XY-N2023W Notebook    Asus   \n",
              "2               MSI Vector GP77 13VG-015TR Notebook     MSI   \n",
              "3     Lenovo ThinkPad P17 G2 20YU001XTX047 Notebook  Lenovo   \n",
              "4            HP OMEN 17-cm2001nt (7P656EA) Notebook      HP   \n",
              "..                                              ...     ...   \n",
              "212            HP ProBook 450 G8 (2W8T0EA) Notebook      HP   \n",
              "213            Lenovo V14 G2 82KA001TTX061 Notebook  Lenovo   \n",
              "214                    HP 250 G7 (175R5EA) Notebook      HP   \n",
              "215  Dell Latitude 3301 N015L330113EMEA_W Ultrabook    Dell   \n",
              "216      Casper Nirvana X400.1021-8U00T-S Ultrabook  Casper   \n",
              "\n",
              "                   İşlemci  İşlemci Çekirdeği   Ekran Çözünürlüğü  Ram  \\\n",
              "0     Intel Core i9-11950H                  8  1920 x 1080 Piksel  128   \n",
              "1       AMD Ryzen 9 7940HS                  8  2560 x 1600 Piksel   32   \n",
              "2     Intel Core i9-13900H                 14  2560 x 1440 Piksel   32   \n",
              "3     Intel Core i7-11800H                  8  1920 x 1080 Piksel  128   \n",
              "4    Intel Core i7-13700HX                 16  2560 x 1440 Piksel   16   \n",
              "..                     ...                ...                 ...  ...   \n",
              "212   Intel Core i3-1115G4                  2   1366 x 768 Piksel    4   \n",
              "213   Intel Core i3-1115G4                  2  1920 x 1080 Piksel    8   \n",
              "214   Intel Core i5-1035G7                  4   1366 x 768 Piksel    4   \n",
              "215    Intel Core i3-8145U                  2  1920 x 1080 Piksel    4   \n",
              "216   Intel Core i5-10210U                  4   1366 x 768 Piksel    8   \n",
              "\n",
              "    Bellek Türü   SSD                     GPU Model  GPU Bellek  GPU Hız  Puan  \n",
              "0          DDR4  1536              NVIDIA RTX A4000           8     1140    73  \n",
              "1          DDR5  1024  NVIDIA GeForce RTX 4090 125W          16     1455    73  \n",
              "2          DDR5  2048  NVIDIA GeForce RTX 4070 140W           8     1230    70  \n",
              "3          DDR4   512              NVIDIA RTX A2000           4     1215    66  \n",
              "4          DDR5  1024       NVIDIA GeForce RTX 4070           8     1230    66  \n",
              "..          ...   ...                           ...         ...      ...   ...  \n",
              "212        DDR4   256                       GPU Yok           0        0    22  \n",
              "213        DDR4   500                       GPU Yok           0        0    21  \n",
              "214        DDR4     0          NVIDIA GeForce MX110           2      965    21  \n",
              "215      LPDDR3   256                       GPU Yok           0        0    21  \n",
              "216        DDR4   256                       GPU Yok           0        0    21  \n",
              "\n",
              "[217 rows x 12 columns]"
            ],
            "text/html": [
              "\n",
              "  <div id=\"df-4aa2efb3-408e-430c-b9fb-9f2903786298\">\n",
              "    <div class=\"colab-df-container\">\n",
              "      <div>\n",
              "<style scoped>\n",
              "    .dataframe tbody tr th:only-of-type {\n",
              "        vertical-align: middle;\n",
              "    }\n",
              "\n",
              "    .dataframe tbody tr th {\n",
              "        vertical-align: top;\n",
              "    }\n",
              "\n",
              "    .dataframe thead th {\n",
              "        text-align: right;\n",
              "    }\n",
              "</style>\n",
              "<table border=\"1\" class=\"dataframe\">\n",
              "  <thead>\n",
              "    <tr style=\"text-align: right;\">\n",
              "      <th></th>\n",
              "      <th>İsim</th>\n",
              "      <th>Marka</th>\n",
              "      <th>İşlemci</th>\n",
              "      <th>İşlemci Çekirdeği</th>\n",
              "      <th>Ekran Çözünürlüğü</th>\n",
              "      <th>Ram</th>\n",
              "      <th>Bellek Türü</th>\n",
              "      <th>SSD</th>\n",
              "      <th>GPU Model</th>\n",
              "      <th>GPU Bellek</th>\n",
              "      <th>GPU Hız</th>\n",
              "      <th>Puan</th>\n",
              "    </tr>\n",
              "  </thead>\n",
              "  <tbody>\n",
              "    <tr>\n",
              "      <th>0</th>\n",
              "      <td>Lenovo ThinkPad P15 G2 20YQS2T902A9 Notebook</td>\n",
              "      <td>Lenovo</td>\n",
              "      <td>Intel Core i9-11950H</td>\n",
              "      <td>8</td>\n",
              "      <td>1920 x 1080 Piksel</td>\n",
              "      <td>128</td>\n",
              "      <td>DDR4</td>\n",
              "      <td>1536</td>\n",
              "      <td>NVIDIA RTX A4000</td>\n",
              "      <td>8</td>\n",
              "      <td>1140</td>\n",
              "      <td>73</td>\n",
              "    </tr>\n",
              "    <tr>\n",
              "      <th>1</th>\n",
              "      <td>Asus ROG Zephyrus G14 GA402XY-N2023W Notebook</td>\n",
              "      <td>Asus</td>\n",
              "      <td>AMD Ryzen 9 7940HS</td>\n",
              "      <td>8</td>\n",
              "      <td>2560 x 1600 Piksel</td>\n",
              "      <td>32</td>\n",
              "      <td>DDR5</td>\n",
              "      <td>1024</td>\n",
              "      <td>NVIDIA GeForce RTX 4090 125W</td>\n",
              "      <td>16</td>\n",
              "      <td>1455</td>\n",
              "      <td>73</td>\n",
              "    </tr>\n",
              "    <tr>\n",
              "      <th>2</th>\n",
              "      <td>MSI Vector GP77 13VG-015TR Notebook</td>\n",
              "      <td>MSI</td>\n",
              "      <td>Intel Core i9-13900H</td>\n",
              "      <td>14</td>\n",
              "      <td>2560 x 1440 Piksel</td>\n",
              "      <td>32</td>\n",
              "      <td>DDR5</td>\n",
              "      <td>2048</td>\n",
              "      <td>NVIDIA GeForce RTX 4070 140W</td>\n",
              "      <td>8</td>\n",
              "      <td>1230</td>\n",
              "      <td>70</td>\n",
              "    </tr>\n",
              "    <tr>\n",
              "      <th>3</th>\n",
              "      <td>Lenovo ThinkPad P17 G2 20YU001XTX047 Notebook</td>\n",
              "      <td>Lenovo</td>\n",
              "      <td>Intel Core i7-11800H</td>\n",
              "      <td>8</td>\n",
              "      <td>1920 x 1080 Piksel</td>\n",
              "      <td>128</td>\n",
              "      <td>DDR4</td>\n",
              "      <td>512</td>\n",
              "      <td>NVIDIA RTX A2000</td>\n",
              "      <td>4</td>\n",
              "      <td>1215</td>\n",
              "      <td>66</td>\n",
              "    </tr>\n",
              "    <tr>\n",
              "      <th>4</th>\n",
              "      <td>HP OMEN 17-cm2001nt (7P656EA) Notebook</td>\n",
              "      <td>HP</td>\n",
              "      <td>Intel Core i7-13700HX</td>\n",
              "      <td>16</td>\n",
              "      <td>2560 x 1440 Piksel</td>\n",
              "      <td>16</td>\n",
              "      <td>DDR5</td>\n",
              "      <td>1024</td>\n",
              "      <td>NVIDIA GeForce RTX 4070</td>\n",
              "      <td>8</td>\n",
              "      <td>1230</td>\n",
              "      <td>66</td>\n",
              "    </tr>\n",
              "    <tr>\n",
              "      <th>...</th>\n",
              "      <td>...</td>\n",
              "      <td>...</td>\n",
              "      <td>...</td>\n",
              "      <td>...</td>\n",
              "      <td>...</td>\n",
              "      <td>...</td>\n",
              "      <td>...</td>\n",
              "      <td>...</td>\n",
              "      <td>...</td>\n",
              "      <td>...</td>\n",
              "      <td>...</td>\n",
              "      <td>...</td>\n",
              "    </tr>\n",
              "    <tr>\n",
              "      <th>212</th>\n",
              "      <td>HP ProBook 450 G8 (2W8T0EA) Notebook</td>\n",
              "      <td>HP</td>\n",
              "      <td>Intel Core i3-1115G4</td>\n",
              "      <td>2</td>\n",
              "      <td>1366 x 768 Piksel</td>\n",
              "      <td>4</td>\n",
              "      <td>DDR4</td>\n",
              "      <td>256</td>\n",
              "      <td>GPU Yok</td>\n",
              "      <td>0</td>\n",
              "      <td>0</td>\n",
              "      <td>22</td>\n",
              "    </tr>\n",
              "    <tr>\n",
              "      <th>213</th>\n",
              "      <td>Lenovo V14 G2 82KA001TTX061 Notebook</td>\n",
              "      <td>Lenovo</td>\n",
              "      <td>Intel Core i3-1115G4</td>\n",
              "      <td>2</td>\n",
              "      <td>1920 x 1080 Piksel</td>\n",
              "      <td>8</td>\n",
              "      <td>DDR4</td>\n",
              "      <td>500</td>\n",
              "      <td>GPU Yok</td>\n",
              "      <td>0</td>\n",
              "      <td>0</td>\n",
              "      <td>21</td>\n",
              "    </tr>\n",
              "    <tr>\n",
              "      <th>214</th>\n",
              "      <td>HP 250 G7 (175R5EA) Notebook</td>\n",
              "      <td>HP</td>\n",
              "      <td>Intel Core i5-1035G7</td>\n",
              "      <td>4</td>\n",
              "      <td>1366 x 768 Piksel</td>\n",
              "      <td>4</td>\n",
              "      <td>DDR4</td>\n",
              "      <td>0</td>\n",
              "      <td>NVIDIA GeForce MX110</td>\n",
              "      <td>2</td>\n",
              "      <td>965</td>\n",
              "      <td>21</td>\n",
              "    </tr>\n",
              "    <tr>\n",
              "      <th>215</th>\n",
              "      <td>Dell Latitude 3301 N015L330113EMEA_W Ultrabook</td>\n",
              "      <td>Dell</td>\n",
              "      <td>Intel Core i3-8145U</td>\n",
              "      <td>2</td>\n",
              "      <td>1920 x 1080 Piksel</td>\n",
              "      <td>4</td>\n",
              "      <td>LPDDR3</td>\n",
              "      <td>256</td>\n",
              "      <td>GPU Yok</td>\n",
              "      <td>0</td>\n",
              "      <td>0</td>\n",
              "      <td>21</td>\n",
              "    </tr>\n",
              "    <tr>\n",
              "      <th>216</th>\n",
              "      <td>Casper Nirvana X400.1021-8U00T-S Ultrabook</td>\n",
              "      <td>Casper</td>\n",
              "      <td>Intel Core i5-10210U</td>\n",
              "      <td>4</td>\n",
              "      <td>1366 x 768 Piksel</td>\n",
              "      <td>8</td>\n",
              "      <td>DDR4</td>\n",
              "      <td>256</td>\n",
              "      <td>GPU Yok</td>\n",
              "      <td>0</td>\n",
              "      <td>0</td>\n",
              "      <td>21</td>\n",
              "    </tr>\n",
              "  </tbody>\n",
              "</table>\n",
              "<p>217 rows × 12 columns</p>\n",
              "</div>\n",
              "      <button class=\"colab-df-convert\" onclick=\"convertToInteractive('df-4aa2efb3-408e-430c-b9fb-9f2903786298')\"\n",
              "              title=\"Convert this dataframe to an interactive table.\"\n",
              "              style=\"display:none;\">\n",
              "        \n",
              "  <svg xmlns=\"http://www.w3.org/2000/svg\" height=\"24px\"viewBox=\"0 0 24 24\"\n",
              "       width=\"24px\">\n",
              "    <path d=\"M0 0h24v24H0V0z\" fill=\"none\"/>\n",
              "    <path d=\"M18.56 5.44l.94 2.06.94-2.06 2.06-.94-2.06-.94-.94-2.06-.94 2.06-2.06.94zm-11 1L8.5 8.5l.94-2.06 2.06-.94-2.06-.94L8.5 2.5l-.94 2.06-2.06.94zm10 10l.94 2.06.94-2.06 2.06-.94-2.06-.94-.94-2.06-.94 2.06-2.06.94z\"/><path d=\"M17.41 7.96l-1.37-1.37c-.4-.4-.92-.59-1.43-.59-.52 0-1.04.2-1.43.59L10.3 9.45l-7.72 7.72c-.78.78-.78 2.05 0 2.83L4 21.41c.39.39.9.59 1.41.59.51 0 1.02-.2 1.41-.59l7.78-7.78 2.81-2.81c.8-.78.8-2.07 0-2.86zM5.41 20L4 18.59l7.72-7.72 1.47 1.35L5.41 20z\"/>\n",
              "  </svg>\n",
              "      </button>\n",
              "      \n",
              "  <style>\n",
              "    .colab-df-container {\n",
              "      display:flex;\n",
              "      flex-wrap:wrap;\n",
              "      gap: 12px;\n",
              "    }\n",
              "\n",
              "    .colab-df-convert {\n",
              "      background-color: #E8F0FE;\n",
              "      border: none;\n",
              "      border-radius: 50%;\n",
              "      cursor: pointer;\n",
              "      display: none;\n",
              "      fill: #1967D2;\n",
              "      height: 32px;\n",
              "      padding: 0 0 0 0;\n",
              "      width: 32px;\n",
              "    }\n",
              "\n",
              "    .colab-df-convert:hover {\n",
              "      background-color: #E2EBFA;\n",
              "      box-shadow: 0px 1px 2px rgba(60, 64, 67, 0.3), 0px 1px 3px 1px rgba(60, 64, 67, 0.15);\n",
              "      fill: #174EA6;\n",
              "    }\n",
              "\n",
              "    [theme=dark] .colab-df-convert {\n",
              "      background-color: #3B4455;\n",
              "      fill: #D2E3FC;\n",
              "    }\n",
              "\n",
              "    [theme=dark] .colab-df-convert:hover {\n",
              "      background-color: #434B5C;\n",
              "      box-shadow: 0px 1px 3px 1px rgba(0, 0, 0, 0.15);\n",
              "      filter: drop-shadow(0px 1px 2px rgba(0, 0, 0, 0.3));\n",
              "      fill: #FFFFFF;\n",
              "    }\n",
              "  </style>\n",
              "\n",
              "      <script>\n",
              "        const buttonEl =\n",
              "          document.querySelector('#df-4aa2efb3-408e-430c-b9fb-9f2903786298 button.colab-df-convert');\n",
              "        buttonEl.style.display =\n",
              "          google.colab.kernel.accessAllowed ? 'block' : 'none';\n",
              "\n",
              "        async function convertToInteractive(key) {\n",
              "          const element = document.querySelector('#df-4aa2efb3-408e-430c-b9fb-9f2903786298');\n",
              "          const dataTable =\n",
              "            await google.colab.kernel.invokeFunction('convertToInteractive',\n",
              "                                                     [key], {});\n",
              "          if (!dataTable) return;\n",
              "\n",
              "          const docLinkHtml = 'Like what you see? Visit the ' +\n",
              "            '<a target=\"_blank\" href=https://colab.research.google.com/notebooks/data_table.ipynb>data table notebook</a>'\n",
              "            + ' to learn more about interactive tables.';\n",
              "          element.innerHTML = '';\n",
              "          dataTable['output_type'] = 'display_data';\n",
              "          await google.colab.output.renderOutput(dataTable, element);\n",
              "          const docLink = document.createElement('div');\n",
              "          docLink.innerHTML = docLinkHtml;\n",
              "          element.appendChild(docLink);\n",
              "        }\n",
              "      </script>\n",
              "    </div>\n",
              "  </div>\n",
              "  "
            ]
          },
          "metadata": {},
          "execution_count": 3
        }
      ]
    },
    {
      "cell_type": "code",
      "source": [
        "#Bağımsız değişkenleri ayarlama\n",
        "x = df.iloc[:,1:-1].values\n",
        "x"
      ],
      "metadata": {
        "colab": {
          "base_uri": "https://localhost:8080/"
        },
        "id": "daG3xAefQkN3",
        "outputId": "b5655174-a3d2-4a05-a3b2-054549bcf9dd"
      },
      "execution_count": 4,
      "outputs": [
        {
          "output_type": "execute_result",
          "data": {
            "text/plain": [
              "array([['Lenovo', 'Intel Core i9-11950H', 8, ..., 'NVIDIA RTX A4000', 8,\n",
              "        1140],\n",
              "       ['Asus', 'AMD Ryzen 9 7940HS', 8, ...,\n",
              "        'NVIDIA GeForce RTX 4090 125W', 16, 1455],\n",
              "       ['MSI', 'Intel Core i9-13900H', 14, ...,\n",
              "        'NVIDIA GeForce RTX 4070 140W', 8, 1230],\n",
              "       ...,\n",
              "       ['HP', 'Intel Core i5-1035G7', 4, ..., 'NVIDIA GeForce MX110', 2,\n",
              "        965],\n",
              "       ['Dell', 'Intel Core i3-8145U', 2, ..., 'GPU Yok', 0, 0],\n",
              "       ['Casper', 'Intel Core i5-10210U', 4, ..., 'GPU Yok', 0, 0]],\n",
              "      dtype=object)"
            ]
          },
          "metadata": {},
          "execution_count": 4
        }
      ]
    },
    {
      "cell_type": "code",
      "source": [
        "#Bağımlı değişkeni ayarlama\n",
        "y = df.iloc[:,-1].values\n",
        "y"
      ],
      "metadata": {
        "colab": {
          "base_uri": "https://localhost:8080/"
        },
        "id": "-5clAlZPQoQP",
        "outputId": "88492d89-f5f6-468c-9fa5-277f6e8d7109"
      },
      "execution_count": 5,
      "outputs": [
        {
          "output_type": "execute_result",
          "data": {
            "text/plain": [
              "array([73, 73, 70, 66, 66, 66, 65, 65, 64, 64, 63, 63, 62, 62, 62, 62, 62,\n",
              "       62, 62, 61, 60, 60, 59, 59, 59, 59, 59, 58, 58, 58, 57, 57, 57, 57,\n",
              "       57, 57, 57, 57, 57, 57, 57, 57, 56, 56, 56, 56, 73, 56, 55, 55, 55,\n",
              "       55, 55, 55, 55, 55, 54, 54, 54, 54, 54, 54, 53, 53, 53, 53, 53, 53,\n",
              "       53, 53, 53, 53, 52, 52, 52, 52, 52, 52, 52, 52, 52, 52, 52, 52, 52,\n",
              "       52, 52, 52, 51, 51, 51, 51, 51, 51, 51, 50, 50, 50, 50, 50, 49, 49,\n",
              "       49, 49, 48, 48, 48, 48, 48, 47, 47, 47, 61, 46, 46, 46, 46, 45, 45,\n",
              "       45, 45, 44, 44, 44, 44, 43, 43, 43, 43, 42, 42, 42, 42, 41, 41, 41,\n",
              "       41, 40, 40, 40, 40, 39, 39, 39, 39, 38, 38, 38, 38, 37, 37, 37, 37,\n",
              "       36, 36, 36, 36, 35, 35, 35, 35, 34, 34, 34, 34, 33, 33, 33, 33, 32,\n",
              "       32, 32, 32, 31, 31, 31, 31, 30, 30, 30, 30, 29, 29, 29, 29, 28, 28,\n",
              "       28, 28, 27, 27, 27, 27, 26, 26, 26, 26, 25, 25, 25, 25, 24, 24, 24,\n",
              "       24, 23, 23, 23, 23, 22, 22, 22, 22, 21, 21, 21, 21])"
            ]
          },
          "metadata": {},
          "execution_count": 5
        }
      ]
    },
    {
      "cell_type": "code",
      "source": [
        "#String değerlerin encoding edilmesi\n",
        "from sklearn.preprocessing import LabelEncoder\n",
        "le = LabelEncoder()\n",
        "le2 = LabelEncoder()\n",
        "le3 = LabelEncoder()\n",
        "le4 = LabelEncoder()\n",
        "le5 = LabelEncoder()\n",
        "x[:,0]=le.fit_transform(x[:,0])\n",
        "x[:,1]=le2.fit_transform(x[:,1])\n",
        "x[:,3]=le3.fit_transform(x[:,3])\n",
        "x[:,5]=le4.fit_transform(x[:,5])\n",
        "x[:,7]=le5.fit_transform(x[:,7])"
      ],
      "metadata": {
        "id": "ckHCn_VqyQmZ"
      },
      "execution_count": 6,
      "outputs": []
    },
    {
      "cell_type": "code",
      "source": [
        "#Tüm değerlerin 0-1 arasına ölçeklendirilmesi\n",
        "from sklearn.preprocessing import MinMaxScaler\n",
        "scaler=MinMaxScaler()\n",
        "scaler2=MinMaxScaler()\n",
        "x=scaler.fit_transform(x)\n",
        "y=scaler2.fit_transform(y.reshape(-1,1))"
      ],
      "metadata": {
        "id": "Ux84txL2RBWo"
      },
      "execution_count": 7,
      "outputs": []
    },
    {
      "cell_type": "code",
      "source": [],
      "metadata": {
        "id": "UMu3sKxgRFou"
      },
      "execution_count": 7,
      "outputs": []
    },
    {
      "cell_type": "code",
      "source": [
        "#Train-test split\n",
        "from sklearn.model_selection import train_test_split\n",
        "x_train,x_test,y_train,y_test = train_test_split(x,y,test_size=0.20,random_state=0)\n",
        "\n",
        "print(x_train.shape)\n",
        "print(y_train.shape)\n",
        "print(x_test.shape)\n",
        "print(y_test.shape)"
      ],
      "metadata": {
        "colab": {
          "base_uri": "https://localhost:8080/"
        },
        "id": "TxZAVKwoRh6T",
        "outputId": "de1812b4-7828-4963-d159-7beab5a126c9"
      },
      "execution_count": 8,
      "outputs": [
        {
          "output_type": "stream",
          "name": "stdout",
          "text": [
            "(173, 10)\n",
            "(173, 1)\n",
            "(44, 10)\n",
            "(44, 1)\n"
          ]
        }
      ]
    },
    {
      "cell_type": "code",
      "source": [
        "import tensorflow.keras\n",
        "from tensorflow.keras.models import Sequential\n",
        "from tensorflow.keras.layers import Dense"
      ],
      "metadata": {
        "id": "maljNW-cRmRV"
      },
      "execution_count": 9,
      "outputs": []
    },
    {
      "cell_type": "code",
      "source": [
        "#2 gizli katman 1 çıkış katmanı olacak şekilde modelin ayarlanması\n",
        "model=Sequential()\n",
        "model.add(Dense(10,activation='relu',input_dim=10))\n",
        "model.add(Dense(10,activation='relu'))\n",
        "model.add(Dense(1,activation='linear'))"
      ],
      "metadata": {
        "id": "g4EYnqCORo-1"
      },
      "execution_count": 10,
      "outputs": []
    },
    {
      "cell_type": "code",
      "source": [
        "model.summary()"
      ],
      "metadata": {
        "colab": {
          "base_uri": "https://localhost:8080/"
        },
        "id": "2FlKLwxvRv1-",
        "outputId": "12d3989a-9159-436d-9e07-61e7c832f7d1"
      },
      "execution_count": 11,
      "outputs": [
        {
          "output_type": "stream",
          "name": "stdout",
          "text": [
            "Model: \"sequential\"\n",
            "_________________________________________________________________\n",
            " Layer (type)                Output Shape              Param #   \n",
            "=================================================================\n",
            " dense (Dense)               (None, 10)                110       \n",
            "                                                                 \n",
            " dense_1 (Dense)             (None, 10)                110       \n",
            "                                                                 \n",
            " dense_2 (Dense)             (None, 1)                 11        \n",
            "                                                                 \n",
            "=================================================================\n",
            "Total params: 231\n",
            "Trainable params: 231\n",
            "Non-trainable params: 0\n",
            "_________________________________________________________________\n"
          ]
        }
      ]
    },
    {
      "cell_type": "code",
      "source": [
        "#Yüzde 20 validation verisi ve 100 epoch ile modelin fit edilmesi\n",
        "model.compile(optimizer='adam',loss='mean_squared_error')#,metrics=['mean_absolute_error'])\n",
        "\n",
        "history=model.fit(x_train,y_train,epochs=100,validation_split=0.2)"
      ],
      "metadata": {
        "colab": {
          "base_uri": "https://localhost:8080/"
        },
        "id": "7yxD6Ja4R0q4",
        "outputId": "2f705c68-fe56-475f-c645-84f9027fd801"
      },
      "execution_count": 12,
      "outputs": [
        {
          "output_type": "stream",
          "name": "stdout",
          "text": [
            "Epoch 1/100\n",
            "5/5 [==============================] - 1s 37ms/step - loss: 0.2549 - val_loss: 0.2165\n",
            "Epoch 2/100\n",
            "5/5 [==============================] - 0s 6ms/step - loss: 0.2320 - val_loss: 0.1982\n",
            "Epoch 3/100\n",
            "5/5 [==============================] - 0s 6ms/step - loss: 0.2124 - val_loss: 0.1820\n",
            "Epoch 4/100\n",
            "5/5 [==============================] - 0s 6ms/step - loss: 0.1959 - val_loss: 0.1669\n",
            "Epoch 5/100\n",
            "5/5 [==============================] - 0s 6ms/step - loss: 0.1806 - val_loss: 0.1529\n",
            "Epoch 6/100\n",
            "5/5 [==============================] - 0s 6ms/step - loss: 0.1660 - val_loss: 0.1393\n",
            "Epoch 7/100\n",
            "5/5 [==============================] - 0s 10ms/step - loss: 0.1516 - val_loss: 0.1262\n",
            "Epoch 8/100\n",
            "5/5 [==============================] - 0s 6ms/step - loss: 0.1378 - val_loss: 0.1139\n",
            "Epoch 9/100\n",
            "5/5 [==============================] - 0s 6ms/step - loss: 0.1253 - val_loss: 0.1020\n",
            "Epoch 10/100\n",
            "5/5 [==============================] - 0s 6ms/step - loss: 0.1123 - val_loss: 0.0905\n",
            "Epoch 11/100\n",
            "5/5 [==============================] - 0s 6ms/step - loss: 0.1003 - val_loss: 0.0798\n",
            "Epoch 12/100\n",
            "5/5 [==============================] - 0s 7ms/step - loss: 0.0883 - val_loss: 0.0697\n",
            "Epoch 13/100\n",
            "5/5 [==============================] - 0s 6ms/step - loss: 0.0776 - val_loss: 0.0603\n",
            "Epoch 14/100\n",
            "5/5 [==============================] - 0s 7ms/step - loss: 0.0670 - val_loss: 0.0523\n",
            "Epoch 15/100\n",
            "5/5 [==============================] - 0s 8ms/step - loss: 0.0580 - val_loss: 0.0457\n",
            "Epoch 16/100\n",
            "5/5 [==============================] - 0s 6ms/step - loss: 0.0503 - val_loss: 0.0407\n",
            "Epoch 17/100\n",
            "5/5 [==============================] - 0s 6ms/step - loss: 0.0441 - val_loss: 0.0373\n",
            "Epoch 18/100\n",
            "5/5 [==============================] - 0s 6ms/step - loss: 0.0401 - val_loss: 0.0354\n",
            "Epoch 19/100\n",
            "5/5 [==============================] - 0s 6ms/step - loss: 0.0378 - val_loss: 0.0346\n",
            "Epoch 20/100\n",
            "5/5 [==============================] - 0s 6ms/step - loss: 0.0361 - val_loss: 0.0345\n",
            "Epoch 21/100\n",
            "5/5 [==============================] - 0s 7ms/step - loss: 0.0356 - val_loss: 0.0346\n",
            "Epoch 22/100\n",
            "5/5 [==============================] - 0s 7ms/step - loss: 0.0349 - val_loss: 0.0343\n",
            "Epoch 23/100\n",
            "5/5 [==============================] - 0s 6ms/step - loss: 0.0342 - val_loss: 0.0339\n",
            "Epoch 24/100\n",
            "5/5 [==============================] - 0s 6ms/step - loss: 0.0336 - val_loss: 0.0334\n",
            "Epoch 25/100\n",
            "5/5 [==============================] - 0s 6ms/step - loss: 0.0330 - val_loss: 0.0329\n",
            "Epoch 26/100\n",
            "5/5 [==============================] - 0s 7ms/step - loss: 0.0326 - val_loss: 0.0325\n",
            "Epoch 27/100\n",
            "5/5 [==============================] - 0s 6ms/step - loss: 0.0320 - val_loss: 0.0321\n",
            "Epoch 28/100\n",
            "5/5 [==============================] - 0s 6ms/step - loss: 0.0315 - val_loss: 0.0317\n",
            "Epoch 29/100\n",
            "5/5 [==============================] - 0s 9ms/step - loss: 0.0310 - val_loss: 0.0314\n",
            "Epoch 30/100\n",
            "5/5 [==============================] - 0s 11ms/step - loss: 0.0305 - val_loss: 0.0311\n",
            "Epoch 31/100\n",
            "5/5 [==============================] - 0s 8ms/step - loss: 0.0299 - val_loss: 0.0308\n",
            "Epoch 32/100\n",
            "5/5 [==============================] - 0s 8ms/step - loss: 0.0292 - val_loss: 0.0305\n",
            "Epoch 33/100\n",
            "5/5 [==============================] - 0s 9ms/step - loss: 0.0286 - val_loss: 0.0302\n",
            "Epoch 34/100\n",
            "5/5 [==============================] - 0s 12ms/step - loss: 0.0280 - val_loss: 0.0298\n",
            "Epoch 35/100\n",
            "5/5 [==============================] - 0s 7ms/step - loss: 0.0275 - val_loss: 0.0294\n",
            "Epoch 36/100\n",
            "5/5 [==============================] - 0s 7ms/step - loss: 0.0269 - val_loss: 0.0291\n",
            "Epoch 37/100\n",
            "5/5 [==============================] - 0s 9ms/step - loss: 0.0263 - val_loss: 0.0288\n",
            "Epoch 38/100\n",
            "5/5 [==============================] - 0s 9ms/step - loss: 0.0258 - val_loss: 0.0285\n",
            "Epoch 39/100\n",
            "5/5 [==============================] - 0s 8ms/step - loss: 0.0252 - val_loss: 0.0281\n",
            "Epoch 40/100\n",
            "5/5 [==============================] - 0s 8ms/step - loss: 0.0248 - val_loss: 0.0277\n",
            "Epoch 41/100\n",
            "5/5 [==============================] - 0s 16ms/step - loss: 0.0243 - val_loss: 0.0274\n",
            "Epoch 42/100\n",
            "5/5 [==============================] - 0s 8ms/step - loss: 0.0237 - val_loss: 0.0271\n",
            "Epoch 43/100\n",
            "5/5 [==============================] - 0s 8ms/step - loss: 0.0231 - val_loss: 0.0268\n",
            "Epoch 44/100\n",
            "5/5 [==============================] - 0s 7ms/step - loss: 0.0227 - val_loss: 0.0265\n",
            "Epoch 45/100\n",
            "5/5 [==============================] - 0s 7ms/step - loss: 0.0222 - val_loss: 0.0262\n",
            "Epoch 46/100\n",
            "5/5 [==============================] - 0s 7ms/step - loss: 0.0217 - val_loss: 0.0258\n",
            "Epoch 47/100\n",
            "5/5 [==============================] - 0s 8ms/step - loss: 0.0212 - val_loss: 0.0254\n",
            "Epoch 48/100\n",
            "5/5 [==============================] - 0s 8ms/step - loss: 0.0208 - val_loss: 0.0251\n",
            "Epoch 49/100\n",
            "5/5 [==============================] - 0s 9ms/step - loss: 0.0203 - val_loss: 0.0246\n",
            "Epoch 50/100\n",
            "5/5 [==============================] - 0s 11ms/step - loss: 0.0198 - val_loss: 0.0242\n",
            "Epoch 51/100\n",
            "5/5 [==============================] - 0s 9ms/step - loss: 0.0193 - val_loss: 0.0238\n",
            "Epoch 52/100\n",
            "5/5 [==============================] - 0s 8ms/step - loss: 0.0188 - val_loss: 0.0235\n",
            "Epoch 53/100\n",
            "5/5 [==============================] - 0s 13ms/step - loss: 0.0184 - val_loss: 0.0232\n",
            "Epoch 54/100\n",
            "5/5 [==============================] - 0s 8ms/step - loss: 0.0180 - val_loss: 0.0229\n",
            "Epoch 55/100\n",
            "5/5 [==============================] - 0s 8ms/step - loss: 0.0176 - val_loss: 0.0226\n",
            "Epoch 56/100\n",
            "5/5 [==============================] - 0s 8ms/step - loss: 0.0173 - val_loss: 0.0224\n",
            "Epoch 57/100\n",
            "5/5 [==============================] - 0s 9ms/step - loss: 0.0169 - val_loss: 0.0221\n",
            "Epoch 58/100\n",
            "5/5 [==============================] - 0s 7ms/step - loss: 0.0166 - val_loss: 0.0219\n",
            "Epoch 59/100\n",
            "5/5 [==============================] - 0s 8ms/step - loss: 0.0163 - val_loss: 0.0217\n",
            "Epoch 60/100\n",
            "5/5 [==============================] - 0s 8ms/step - loss: 0.0159 - val_loss: 0.0214\n",
            "Epoch 61/100\n",
            "5/5 [==============================] - 0s 8ms/step - loss: 0.0156 - val_loss: 0.0213\n",
            "Epoch 62/100\n",
            "5/5 [==============================] - 0s 13ms/step - loss: 0.0154 - val_loss: 0.0212\n",
            "Epoch 63/100\n",
            "5/5 [==============================] - 0s 8ms/step - loss: 0.0152 - val_loss: 0.0210\n",
            "Epoch 64/100\n",
            "5/5 [==============================] - 0s 8ms/step - loss: 0.0149 - val_loss: 0.0210\n",
            "Epoch 65/100\n",
            "5/5 [==============================] - 0s 14ms/step - loss: 0.0147 - val_loss: 0.0209\n",
            "Epoch 66/100\n",
            "5/5 [==============================] - 0s 14ms/step - loss: 0.0145 - val_loss: 0.0208\n",
            "Epoch 67/100\n",
            "5/5 [==============================] - 0s 8ms/step - loss: 0.0143 - val_loss: 0.0206\n",
            "Epoch 68/100\n",
            "5/5 [==============================] - 0s 9ms/step - loss: 0.0141 - val_loss: 0.0206\n",
            "Epoch 69/100\n",
            "5/5 [==============================] - 0s 7ms/step - loss: 0.0141 - val_loss: 0.0206\n",
            "Epoch 70/100\n",
            "5/5 [==============================] - 0s 11ms/step - loss: 0.0140 - val_loss: 0.0205\n",
            "Epoch 71/100\n",
            "5/5 [==============================] - 0s 14ms/step - loss: 0.0137 - val_loss: 0.0205\n",
            "Epoch 72/100\n",
            "5/5 [==============================] - 0s 8ms/step - loss: 0.0136 - val_loss: 0.0205\n",
            "Epoch 73/100\n",
            "5/5 [==============================] - 0s 8ms/step - loss: 0.0135 - val_loss: 0.0204\n",
            "Epoch 74/100\n",
            "5/5 [==============================] - 0s 9ms/step - loss: 0.0134 - val_loss: 0.0203\n",
            "Epoch 75/100\n",
            "5/5 [==============================] - 0s 13ms/step - loss: 0.0133 - val_loss: 0.0202\n",
            "Epoch 76/100\n",
            "5/5 [==============================] - 0s 14ms/step - loss: 0.0133 - val_loss: 0.0201\n",
            "Epoch 77/100\n",
            "5/5 [==============================] - 0s 12ms/step - loss: 0.0132 - val_loss: 0.0200\n",
            "Epoch 78/100\n",
            "5/5 [==============================] - 0s 9ms/step - loss: 0.0131 - val_loss: 0.0200\n",
            "Epoch 79/100\n",
            "5/5 [==============================] - 0s 7ms/step - loss: 0.0131 - val_loss: 0.0200\n",
            "Epoch 80/100\n",
            "5/5 [==============================] - 0s 7ms/step - loss: 0.0130 - val_loss: 0.0200\n",
            "Epoch 81/100\n",
            "5/5 [==============================] - 0s 7ms/step - loss: 0.0130 - val_loss: 0.0200\n",
            "Epoch 82/100\n",
            "5/5 [==============================] - 0s 7ms/step - loss: 0.0129 - val_loss: 0.0200\n",
            "Epoch 83/100\n",
            "5/5 [==============================] - 0s 7ms/step - loss: 0.0129 - val_loss: 0.0199\n",
            "Epoch 84/100\n",
            "5/5 [==============================] - 0s 10ms/step - loss: 0.0128 - val_loss: 0.0197\n",
            "Epoch 85/100\n",
            "5/5 [==============================] - 0s 9ms/step - loss: 0.0128 - val_loss: 0.0196\n",
            "Epoch 86/100\n",
            "5/5 [==============================] - 0s 8ms/step - loss: 0.0127 - val_loss: 0.0196\n",
            "Epoch 87/100\n",
            "5/5 [==============================] - 0s 8ms/step - loss: 0.0127 - val_loss: 0.0195\n",
            "Epoch 88/100\n",
            "5/5 [==============================] - 0s 11ms/step - loss: 0.0127 - val_loss: 0.0194\n",
            "Epoch 89/100\n",
            "5/5 [==============================] - 0s 14ms/step - loss: 0.0126 - val_loss: 0.0194\n",
            "Epoch 90/100\n",
            "5/5 [==============================] - 0s 12ms/step - loss: 0.0126 - val_loss: 0.0194\n",
            "Epoch 91/100\n",
            "5/5 [==============================] - 0s 12ms/step - loss: 0.0125 - val_loss: 0.0195\n",
            "Epoch 92/100\n",
            "5/5 [==============================] - 0s 12ms/step - loss: 0.0125 - val_loss: 0.0194\n",
            "Epoch 93/100\n",
            "5/5 [==============================] - 0s 10ms/step - loss: 0.0125 - val_loss: 0.0193\n",
            "Epoch 94/100\n",
            "5/5 [==============================] - 0s 11ms/step - loss: 0.0125 - val_loss: 0.0193\n",
            "Epoch 95/100\n",
            "5/5 [==============================] - 0s 15ms/step - loss: 0.0125 - val_loss: 0.0192\n",
            "Epoch 96/100\n",
            "5/5 [==============================] - 0s 14ms/step - loss: 0.0125 - val_loss: 0.0191\n",
            "Epoch 97/100\n",
            "5/5 [==============================] - 0s 13ms/step - loss: 0.0124 - val_loss: 0.0190\n",
            "Epoch 98/100\n",
            "5/5 [==============================] - 0s 9ms/step - loss: 0.0124 - val_loss: 0.0189\n",
            "Epoch 99/100\n",
            "5/5 [==============================] - 0s 8ms/step - loss: 0.0123 - val_loss: 0.0188\n",
            "Epoch 100/100\n",
            "5/5 [==============================] - 0s 13ms/step - loss: 0.0123 - val_loss: 0.0188\n"
          ]
        }
      ]
    },
    {
      "cell_type": "code",
      "source": [
        "#test verilerinin tahmini\n",
        "y_pred=model.predict(x_test)"
      ],
      "metadata": {
        "colab": {
          "base_uri": "https://localhost:8080/"
        },
        "id": "qpOWy_RhR9iy",
        "outputId": "a346dbbb-4192-4363-c628-db2b0dd2545f"
      },
      "execution_count": 13,
      "outputs": [
        {
          "output_type": "stream",
          "name": "stdout",
          "text": [
            "2/2 [==============================] - 0s 4ms/step\n"
          ]
        }
      ]
    },
    {
      "cell_type": "code",
      "source": [
        "#tahmin verileri ile gerçek verilerin r2 score'unun ölçümü\n",
        "from sklearn.metrics import r2_score\n",
        "R2 = r2_score(y_test, y_pred)\n",
        "print(\"R2 =\",R2 )"
      ],
      "metadata": {
        "colab": {
          "base_uri": "https://localhost:8080/"
        },
        "id": "6fvQlLUZR-qf",
        "outputId": "d09095cb-8ed1-4d31-e66f-fc35ec4753df"
      },
      "execution_count": 14,
      "outputs": [
        {
          "output_type": "stream",
          "name": "stdout",
          "text": [
            "R2 = 0.6745140288704966\n"
          ]
        }
      ]
    },
    {
      "cell_type": "code",
      "source": [
        "#tahmin verileri ile gerçek verilerin MAE ölçümü\n",
        "from sklearn.metrics import mean_absolute_error\n",
        "\n",
        "mae = mean_absolute_error(y_test, y_pred)\n",
        "print(\"MAE =\", mae)"
      ],
      "metadata": {
        "colab": {
          "base_uri": "https://localhost:8080/"
        },
        "id": "hMjAHcu3SBJi",
        "outputId": "40fde61e-aab9-4eb4-dc42-1359a9b8d7ad"
      },
      "execution_count": 15,
      "outputs": [
        {
          "output_type": "stream",
          "name": "stdout",
          "text": [
            "MAE = 0.1025061140201621\n"
          ]
        }
      ]
    },
    {
      "cell_type": "code",
      "source": [],
      "metadata": {
        "id": "hB55LEkG0i36"
      },
      "execution_count": 15,
      "outputs": []
    },
    {
      "cell_type": "code",
      "source": [],
      "metadata": {
        "id": "dVPFK_c-0i6x"
      },
      "execution_count": 15,
      "outputs": []
    },
    {
      "cell_type": "code",
      "source": [
        "#Verilerin çekilmesi\n",
        "import requests\n",
        "from bs4 import BeautifulSoup\n",
        "import warnings\n",
        "warnings.filterwarnings(\"ignore\")"
      ],
      "metadata": {
        "id": "GYjaRHQxp_U5"
      },
      "execution_count": 16,
      "outputs": []
    },
    {
      "cell_type": "code",
      "source": [
        "df2 = pd.DataFrame(columns=['İsim', 'Marka', 'İşlemci', 'İşlemci Çekirdeği', 'Ekran Çözünürlüğü', 'Ram', 'Bellek Türü', 'SSD', 'GPU Model', 'GPU Bellek', 'GPU Hız', 'Puan'])\n",
        "df2['İşlemci Çekirdeği'] = df2['İşlemci Çekirdeği'].astype(int)\n",
        "df2['Ram'] = df2['Ram'].astype(int)\n",
        "df2['SSD'] = df2['SSD'].astype(int)\n",
        "df2['GPU Bellek'] = df2['GPU Bellek'].astype(int)\n",
        "df2['GPU Hız'] = df2['GPU Hız'].astype(int)\n",
        "df2['Puan'] = df2['Puan'].astype(int)\n",
        "url = 'https://www.epey.com/laptop/hp-victus-16-e0022nt-793k1ea.html'\n",
        "print(url)\n",
        "headers = {\"User-Agent\": \"Mozilla/5.0 (Windows NT 10.0; Win64; x64) AppleWebKit/537.36 (KHTML, like Gecko) Chrome/113.0.0.0 Safari/537.36\"}\n",
        "response = requests.get(url, headers=headers)\n",
        "# BeautifulSoup kullanarak HTML'i parse et\n",
        "soup = BeautifulSoup(response.content, 'html.parser')\n",
        "\n",
        "title = soup.find('h1').text.strip()\n",
        "\n",
        "urun_ailesi_html = soup.find(\"strong\", string=\"Ürün Ailesi\").find_next_sibling(\"span\").text\n",
        "urun_ailesi = urun_ailesi_html.strip().split()[0]\n",
        "\n",
        "islemci_modeli_html = soup.find(\"strong\", string=\"İşlemci Modeli\").find_next_sibling(\"span\").text\n",
        "islemci_modeli = islemci_modeli_html.strip()\n",
        "\n",
        "islemci_cekirdegi_html = soup.find(\"strong\", string=\"İşlemci Çekirdeği\").find_next_sibling(\"span\").text\n",
        "islemci_cekirdegi = islemci_cekirdegi_html.strip().split()[0]\n",
        "islemci_cekirdegi = int(islemci_cekirdegi)\n",
        "\n",
        "ekran_cozunurlugu_html = soup.find(\"strong\", string=\"Ekran Çözünürlüğü\").find_next_sibling(\"span\").text\n",
        "ekran_cozunurlugu = ekran_cozunurlugu_html.strip()\n",
        "\n",
        "bellek_html = soup.find(\"strong\", string=\"Bellek (RAM)\").find_next_sibling(\"span\").text\n",
        "bellek = bellek_html.strip().split()[0]\n",
        "bellek = int(bellek)\n",
        "\n",
        "bellek_turu_html = soup.find(\"strong\", string=\"Bellek Türü\").find_next_sibling(\"span\").text\n",
        "bellek_turu = bellek_turu_html.strip()\n",
        "\n",
        "ssd_element = soup.find(\"strong\", string=\"Sabit Disk (SSD) Boyutu\")\n",
        "if ssd_element is not None:\n",
        "    ssd_html = ssd_element.find_next_sibling(\"span\").text\n",
        "    ssd = ssd_html.strip()\n",
        "else:\n",
        "    ssd = \"SSD YOK\"    \n",
        "\n",
        "ssd_element = soup.find(\"strong\", string=\"Sabit Disk (SSD) Boyutu\")\n",
        "if ssd_element is not None:\n",
        "    ssd_html = ssd_element.find_next_sibling(\"span\").text\n",
        "    ssd = ssd_html.strip().split()[0]\n",
        "    ssd = float(ssd)\n",
        "    if(ssd_html.strip().split()[1] == \"TB\"):\n",
        "        ssd = ssd * 1024\n",
        "    ssd = int(ssd)\n",
        "else:\n",
        "    ssd = 0 \n",
        "\n",
        "gpu_model_element = soup.find(\"strong\", string=\"GPU Modeli\")\n",
        "if gpu_model_element is not None:\n",
        "    gpu_model_html = gpu_model_element.find_next_sibling(\"span\").text\n",
        "    gpu_model = gpu_model_html.strip()\n",
        "else:\n",
        "    gpu_model = \"GPU Yok\"\n",
        "\n",
        "gpu_bellek_element = soup.find(\"strong\", string=\"GPU Bellek Miktarı\")\n",
        "if gpu_bellek_element is not None:\n",
        "    gpu_bellek_html = gpu_bellek_element.find_next_sibling(\"span\").text\n",
        "    gpu_bellek = gpu_bellek_html.strip().split()[0]\n",
        "    gpu_bellek = int(gpu_bellek)\n",
        "else:\n",
        "    gpu_bellek = 0\n",
        "\n",
        "gpu_cekirdek_element = soup.find(\"strong\", string=\"GPU Çekirdek Hızı\")\n",
        "if gpu_cekirdek_element is not None:\n",
        "    gpu_cekirdek_html = gpu_cekirdek_element.find_next_sibling(\"span\").text\n",
        "    gpu_cekirdek = gpu_cekirdek_html.strip().split()[0]\n",
        "    gpu_cekirdek = int(gpu_cekirdek)\n",
        "else:\n",
        "    gpu_cekirdek = 0\n",
        "\n",
        "\n",
        "div = soup.find('div', {'id': 'puan'}) \n",
        "puan = div['data-text'] \n",
        "\n",
        "df2 = df2.append({'İsim': title,\n",
        "                'Marka': urun_ailesi,\n",
        "                'İşlemci': islemci_modeli,\n",
        "                'İşlemci Çekirdeği': islemci_cekirdegi,\n",
        "                'Ekran Çözünürlüğü': ekran_cozunurlugu,\n",
        "                'Ram': bellek,\n",
        "                'Bellek Türü': bellek_turu,\n",
        "                'SSD': ssd,\n",
        "                'GPU Model': gpu_model,\n",
        "                'GPU Bellek': gpu_bellek,\n",
        "                'GPU Hız': gpu_cekirdek,\n",
        "                'Puan': puan}, ignore_index=True)"
      ],
      "metadata": {
        "colab": {
          "base_uri": "https://localhost:8080/"
        },
        "id": "5SRM-TxEpNEh",
        "outputId": "33618a86-eda1-4ff5-9103-8aa3f5c836b9"
      },
      "execution_count": 17,
      "outputs": [
        {
          "output_type": "stream",
          "name": "stdout",
          "text": [
            "https://www.epey.com/laptop/hp-victus-16-e0022nt-793k1ea.html\n"
          ]
        }
      ]
    },
    {
      "cell_type": "code",
      "source": [
        "#bağımsız değişkenler\n",
        "new_data = df2.iloc[:,1:-1].values"
      ],
      "metadata": {
        "id": "sWP8qSsgqTmV"
      },
      "execution_count": 18,
      "outputs": []
    },
    {
      "cell_type": "code",
      "source": [
        "new_data"
      ],
      "metadata": {
        "colab": {
          "base_uri": "https://localhost:8080/"
        },
        "id": "B5X0-Fw1qVKp",
        "outputId": "3e9ad489-972f-4f84-8276-0640a9f683a5"
      },
      "execution_count": 19,
      "outputs": [
        {
          "output_type": "execute_result",
          "data": {
            "text/plain": [
              "array([['HP', 'AMD Ryzen 7 5800H', 8, '1920 x 1080 Piksel', 16, 'DDR4',\n",
              "        512, 'NVIDIA GeForce GTX 1650 GDDR6', 4, 1395]], dtype=object)"
            ]
          },
          "metadata": {},
          "execution_count": 19
        }
      ]
    },
    {
      "cell_type": "code",
      "source": [],
      "metadata": {
        "id": "PRk9OWAe0PdH"
      },
      "execution_count": 19,
      "outputs": []
    },
    {
      "cell_type": "code",
      "source": [],
      "metadata": {
        "id": "6RYeIlPH0Pft"
      },
      "execution_count": 19,
      "outputs": []
    },
    {
      "cell_type": "code",
      "source": [
        "# Veriyi aynı şekilde işleme\n",
        "new_data[:, 0] = le.transform(new_data[:, 0])\n",
        "new_data[:, 1] = le2.transform(new_data[:, 1])\n",
        "new_data[:, 3] = le3.transform(new_data[:, 3])\n",
        "new_data[:, 5] = le4.transform(new_data[:, 5])\n",
        "new_data[:, 7] = le5.transform(new_data[:, 7])"
      ],
      "metadata": {
        "id": "eHo9yhtmxqH3"
      },
      "execution_count": 20,
      "outputs": []
    },
    {
      "cell_type": "code",
      "source": [
        "new_data"
      ],
      "metadata": {
        "colab": {
          "base_uri": "https://localhost:8080/"
        },
        "id": "NsmHsJWayxD3",
        "outputId": "602bb8f0-9b02-41e9-8b1e-06500bdffdfa"
      },
      "execution_count": 21,
      "outputs": [
        {
          "output_type": "execute_result",
          "data": {
            "text/plain": [
              "array([[6, 7, 8, 1, 16, 0, 512, 3, 4, 1395]], dtype=object)"
            ]
          },
          "metadata": {},
          "execution_count": 21
        }
      ]
    },
    {
      "cell_type": "code",
      "source": [
        "#minmax scaling\n",
        "new_data = scaler.transform(new_data)"
      ],
      "metadata": {
        "id": "149IkHGkxqKT"
      },
      "execution_count": 22,
      "outputs": []
    },
    {
      "cell_type": "code",
      "source": [
        "# Tahmin yapma\n",
        "y_pred_new = model.predict(new_data)"
      ],
      "metadata": {
        "colab": {
          "base_uri": "https://localhost:8080/"
        },
        "id": "rHqSTEcTxqOC",
        "outputId": "8ebfe32f-55b4-43e5-f061-ba45314f4fed"
      },
      "execution_count": 23,
      "outputs": [
        {
          "output_type": "stream",
          "name": "stdout",
          "text": [
            "1/1 [==============================] - 0s 27ms/step\n"
          ]
        }
      ]
    },
    {
      "cell_type": "code",
      "source": [
        "# Tahmin sonucunu ölçek tersine dönüştürme\n",
        "y_pred_new = scaler2.inverse_transform(y_pred_new)"
      ],
      "metadata": {
        "id": "OOjhoLxNxqQn"
      },
      "execution_count": 24,
      "outputs": []
    },
    {
      "cell_type": "code",
      "source": [
        "print(\"Yeni veri tahmini:\", y_pred_new)"
      ],
      "metadata": {
        "colab": {
          "base_uri": "https://localhost:8080/"
        },
        "id": "Aguytl0FxqUI",
        "outputId": "ac8da1f7-2c45-418d-ca5a-068a2ab854ba"
      },
      "execution_count": 25,
      "outputs": [
        {
          "output_type": "stream",
          "name": "stdout",
          "text": [
            "Yeni veri tahmini: [[40.56748]]\n"
          ]
        }
      ]
    },
    {
      "cell_type": "code",
      "source": [],
      "metadata": {
        "id": "YAeJlXRqA2n0"
      },
      "execution_count": 25,
      "outputs": []
    },
    {
      "cell_type": "code",
      "source": [],
      "metadata": {
        "id": "4LL_gIUlA2wn"
      },
      "execution_count": 25,
      "outputs": []
    },
    {
      "cell_type": "code",
      "source": [
        "#rastgele veri\n",
        "new_data1= np.array([['Lenovo', 'AMD Ryzen 7 5800H', 6, '1920 x 1080 Piksel', 8, 'DDR5',256, 'NVIDIA GeForce GTX 1650 GDDR6', 8, 1024]])"
      ],
      "metadata": {
        "id": "HDW7upAdA2zE"
      },
      "execution_count": 27,
      "outputs": []
    },
    {
      "cell_type": "code",
      "source": [
        "# Veriyi aynı şekilde işleme\n",
        "new_data1[:, 0] = le.transform(new_data1[:, 0])\n",
        "new_data1[:, 1] = le2.transform(new_data1[:, 1])\n",
        "new_data1[:, 3] = le3.transform(new_data1[:, 3])\n",
        "new_data1[:, 5] = le4.transform(new_data1[:, 5])\n",
        "new_data1[:, 7] = le5.transform(new_data1[:, 7])"
      ],
      "metadata": {
        "id": "cJhHOJDKBOCG"
      },
      "execution_count": 29,
      "outputs": []
    },
    {
      "cell_type": "code",
      "source": [
        "#Min-Max scaling\n",
        "new_data1 = scaler.transform(new_data1)"
      ],
      "metadata": {
        "id": "um7IgGepBZeB"
      },
      "execution_count": 30,
      "outputs": []
    },
    {
      "cell_type": "code",
      "source": [
        "#Tahmin\n",
        "y_pred_new1 = model.predict(new_data1)"
      ],
      "metadata": {
        "colab": {
          "base_uri": "https://localhost:8080/"
        },
        "id": "lnB-QR62BQKt",
        "outputId": "0b4476a2-a997-4a3e-b34d-0a13c14ee0e3"
      },
      "execution_count": 31,
      "outputs": [
        {
          "output_type": "stream",
          "name": "stdout",
          "text": [
            "1/1 [==============================] - 0s 13ms/step\n"
          ]
        }
      ]
    },
    {
      "cell_type": "code",
      "source": [
        "#Min-Max Scaling'i tersine çevirme\n",
        "y_pred_new1 = scaler2.inverse_transform(y_pred_new1)"
      ],
      "metadata": {
        "id": "jo0xwZaDBcu5"
      },
      "execution_count": 32,
      "outputs": []
    },
    {
      "cell_type": "code",
      "source": [
        "print(\"Yeni veri tahmini:\", y_pred_new1)"
      ],
      "metadata": {
        "colab": {
          "base_uri": "https://localhost:8080/"
        },
        "id": "9CGNJ97DBf-0",
        "outputId": "5a9bf198-a81e-4f23-f4ef-cf5be84d7728"
      },
      "execution_count": 33,
      "outputs": [
        {
          "output_type": "stream",
          "name": "stdout",
          "text": [
            "Yeni veri tahmini: [[40.695]]\n"
          ]
        }
      ]
    }
  ]
}